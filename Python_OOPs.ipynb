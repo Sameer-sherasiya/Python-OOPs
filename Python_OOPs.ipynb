{
  "nbformat": 4,
  "nbformat_minor": 0,
  "metadata": {
    "colab": {
      "provenance": [],
      "toc_visible": true
    },
    "kernelspec": {
      "name": "python3",
      "display_name": "Python 3"
    },
    "language_info": {
      "name": "python"
    }
  },
  "cells": [
    {
      "cell_type": "markdown",
      "source": [
        "# Python OOPs"
      ],
      "metadata": {
        "id": "STlBrlk41HZE"
      }
    },
    {
      "cell_type": "markdown",
      "source": [
        "1.What is Object-Oriented Programing (OOP)?\n",
        "  - OOP is a programing paradigm based on objects that contain data (attributes) and code (methods). It heips organize code using classes and objects."
      ],
      "metadata": {
        "id": "TuFFyFvM1c9B"
      }
    },
    {
      "cell_type": "markdown",
      "source": [
        "2.What is a class in OOP?\n",
        "  - A class is a blueprint for creating objects, defining attributes and methods."
      ],
      "metadata": {
        "id": "3ZyY5DoG1ilb"
      }
    },
    {
      "cell_type": "code",
      "source": [
        "class Car:\n",
        "  def _init_(self,make,model,year):\n",
        "    self.make = make\n",
        "    self.model = model\n",
        "    self.year = year"
      ],
      "metadata": {
        "id": "KuvLavTAt2DS"
      },
      "execution_count": null,
      "outputs": []
    },
    {
      "cell_type": "markdown",
      "source": [
        "3.What is an object in OOP?\n",
        "  - An object is an instance of a class. It represents a real-world entity with atttributes (data) and method (behavior)."
      ],
      "metadata": {
        "id": "jBz0RmnC1iY4"
      }
    },
    {
      "cell_type": "code",
      "source": [
        "class Car:\n",
        "  def __init__(self,make,model,year):\n",
        "    self.make = make\n",
        "    self.model = model\n",
        "    self.year = year\n",
        "\n",
        "my_car = Car(\"Toyota\",\"Camry\",2022)\n",
        "print(my_car.make)\n",
        "\n"
      ],
      "metadata": {
        "id": "TqXTSqeeuKUe",
        "colab": {
          "base_uri": "https://localhost:8080/"
        },
        "outputId": "c2f1f4c6-7d59-4aed-acbd-8d6be8d44db2"
      },
      "execution_count": null,
      "outputs": [
        {
          "output_type": "stream",
          "name": "stdout",
          "text": [
            "Toyota\n"
          ]
        }
      ]
    },
    {
      "cell_type": "markdown",
      "source": [
        "4.What is the difference between abstraction and encapsulation?\n",
        "  - **Abstraction**: hides implementation details and shows only essential features.\n",
        "  - **Encapsulation**: Bundles data and method into a single unit and restricts direct access."
      ],
      "metadata": {
        "id": "NUK7SMmK1iL3"
      }
    },
    {
      "cell_type": "code",
      "source": [
        "class BankAccount:\n",
        "  def _init_(self,balance):\n",
        "    self._balance = balance\n",
        "\n",
        "  def get_balance(self):\n",
        "    return self._balance\n",
        "\n",
        "  def deposit(self,amount):\n",
        "    self._balance += amount\n",
        "\n",
        "  def withdraw(self,amount):\n",
        "    if amount <= self._balance:\n",
        "      self._balance -= amount"
      ],
      "metadata": {
        "id": "mSZeoL41vFCW"
      },
      "execution_count": null,
      "outputs": []
    },
    {
      "cell_type": "markdown",
      "source": [
        "5.What are dunder methods in Python?\n",
        " - Dunder (double underscore) method are special method with __ (e.g., __init__, __str__ ) that define object behaviors."
      ],
      "metadata": {
        "id": "FsY5vWWi1h95"
      }
    },
    {
      "cell_type": "code",
      "source": [
        "class Person:\n",
        "  def __str__(self):\n",
        "    return \"Person Object\"\n",
        "\n",
        "print(Person())"
      ],
      "metadata": {
        "colab": {
          "base_uri": "https://localhost:8080/"
        },
        "id": "rQ8OsvYVvent",
        "outputId": "2041a54b-202c-42ee-87cd-18972126c35b"
      },
      "execution_count": null,
      "outputs": [
        {
          "output_type": "stream",
          "name": "stdout",
          "text": [
            "Person Object\n"
          ]
        }
      ]
    },
    {
      "cell_type": "markdown",
      "source": [
        "6.Explain the concept of inheritance in OOP.\n",
        "  - Inheritance allow a class (child) to inherit properties and methods of another class (parent)."
      ],
      "metadata": {
        "id": "d_SoSrVD1hxq"
      }
    },
    {
      "cell_type": "code",
      "source": [
        "class Animal:\n",
        "  def sound(self):\n",
        "    print(\"Animal sound\")\n",
        "\n",
        "class Dog(Animal):\n",
        "  pass\n",
        "\n",
        "dog = Dog()\n",
        "dog.sound()"
      ],
      "metadata": {
        "colab": {
          "base_uri": "https://localhost:8080/"
        },
        "id": "spkoEYpuzy-R",
        "outputId": "d4e88467-c42d-4fa2-d379-0057b537ba85"
      },
      "execution_count": null,
      "outputs": [
        {
          "output_type": "stream",
          "name": "stdout",
          "text": [
            "Animal sound\n"
          ]
        }
      ]
    },
    {
      "cell_type": "markdown",
      "source": [
        "7.What is polymorphism in OOP?\n",
        " - Polymorphism allows methods to perform differently based on the object calling them."
      ],
      "metadata": {
        "id": "WQm59s931hls"
      }
    },
    {
      "cell_type": "code",
      "source": [
        "class Cat:\n",
        "  def sound(self):\n",
        "    print(\"Meow\")\n",
        "\n",
        "class Dog:\n",
        "  def sound(self):\n",
        "    print(\"Woof\")\n",
        "\n",
        "for animal in [Cat(),Dog()]:\n",
        "  animal.sound()"
      ],
      "metadata": {
        "colab": {
          "base_uri": "https://localhost:8080/"
        },
        "id": "FW1GU71k0kng",
        "outputId": "61069626-37cc-4555-d5ce-bc8becc3723a"
      },
      "execution_count": null,
      "outputs": [
        {
          "output_type": "stream",
          "name": "stdout",
          "text": [
            "Meow\n",
            "Woof\n"
          ]
        }
      ]
    },
    {
      "cell_type": "markdown",
      "source": [
        "8.How is encapsulation achieved in Python?\n",
        " - Encapsulation is achive using private attributes (__) and public methods."
      ],
      "metadata": {
        "id": "M4aranBy1hZ_"
      }
    },
    {
      "cell_type": "markdown",
      "source": [
        "9.What is a constructor in Python?\n",
        " - A constructor is a method (__inti__) automatically called when an object is created."
      ],
      "metadata": {
        "id": "ektiiAqr1hMG"
      }
    },
    {
      "cell_type": "markdown",
      "source": [
        "10.What are class and static method in Python?\n",
        "  - **Class** **Method**: Operates on the class, not instances. Uses @**classmethod**.\n",
        "  - **Static** **Method**: Dosenot depend on class or instance. Uses @**staticmethod**."
      ],
      "metadata": {
        "id": "WaylEQF01g_c"
      }
    },
    {
      "cell_type": "code",
      "source": [
        "class Example:\n",
        "  @classmethod\n",
        "  def class_method(cls):\n",
        "    print(\"Class Method\")\n",
        "\n",
        "  @staticmethod\n",
        "  def static_method():\n",
        "    print(\"Static Method\")\n",
        "\n",
        "Example.class_method()\n",
        "Example.static_method()"
      ],
      "metadata": {
        "colab": {
          "base_uri": "https://localhost:8080/"
        },
        "id": "LQwjMUyA2KcV",
        "outputId": "ddd2c323-2591-43a7-bbc6-5f0ec1f767d8"
      },
      "execution_count": null,
      "outputs": [
        {
          "output_type": "stream",
          "name": "stdout",
          "text": [
            "Class Method\n",
            "Static Method\n"
          ]
        }
      ]
    },
    {
      "cell_type": "markdown",
      "source": [
        "11.What is method overloading in Python?\n",
        "  - Pythod dose not support true method overloading but can mimic it using default arguments."
      ],
      "metadata": {
        "id": "4jljzn781gy9"
      }
    },
    {
      "cell_type": "code",
      "source": [
        "class Add:\n",
        "  def add(self,a,b=0,c=0):\n",
        "    return a+b+c\n",
        "\n",
        "add = Add()\n",
        "print(add.add(2,3))\n",
        "print(add.add(2,3,4))"
      ],
      "metadata": {
        "colab": {
          "base_uri": "https://localhost:8080/"
        },
        "id": "mgFNGzab2_ut",
        "outputId": "0f4b1d94-29d1-4085-f824-7e70fba91b4a"
      },
      "execution_count": null,
      "outputs": [
        {
          "output_type": "stream",
          "name": "stdout",
          "text": [
            "5\n",
            "9\n"
          ]
        }
      ]
    },
    {
      "cell_type": "markdown",
      "source": [
        "12.What is method overriding in OOP?\n",
        "  - When a child class redefinedes a method from the paret class"
      ],
      "metadata": {
        "id": "zJO7yHnN1gmb"
      }
    },
    {
      "cell_type": "code",
      "source": [
        "class Parent:\n",
        "  def method(self):\n",
        "    print(\"Parent Method\")\n",
        "\n",
        "class Child(Parent):\n",
        "  def show(self):\n",
        "    print(\"Child Method\")\n",
        "\n",
        "child.show()\n"
      ],
      "metadata": {
        "colab": {
          "base_uri": "https://localhost:8080/",
          "height": 176
        },
        "id": "mqG8osYB3PBt",
        "outputId": "bc234485-0373-4bf7-8364-8dcc2fc7d0b9"
      },
      "execution_count": null,
      "outputs": [
        {
          "output_type": "error",
          "ename": "NameError",
          "evalue": "name 'child' is not defined",
          "traceback": [
            "\u001b[0;31m---------------------------------------------------------------------------\u001b[0m",
            "\u001b[0;31mNameError\u001b[0m                                 Traceback (most recent call last)",
            "\u001b[0;32m<ipython-input-54-739ed529e788>\u001b[0m in \u001b[0;36m<cell line: 9>\u001b[0;34m()\u001b[0m\n\u001b[1;32m      7\u001b[0m     \u001b[0mprint\u001b[0m\u001b[0;34m(\u001b[0m\u001b[0;34m\"Child Method\"\u001b[0m\u001b[0;34m)\u001b[0m\u001b[0;34m\u001b[0m\u001b[0;34m\u001b[0m\u001b[0m\n\u001b[1;32m      8\u001b[0m \u001b[0;34m\u001b[0m\u001b[0m\n\u001b[0;32m----> 9\u001b[0;31m \u001b[0mchild\u001b[0m\u001b[0;34m.\u001b[0m\u001b[0mshow\u001b[0m\u001b[0;34m(\u001b[0m\u001b[0;34m)\u001b[0m\u001b[0;34m\u001b[0m\u001b[0;34m\u001b[0m\u001b[0m\n\u001b[0m",
            "\u001b[0;31mNameError\u001b[0m: name 'child' is not defined"
          ]
        }
      ]
    },
    {
      "cell_type": "markdown",
      "source": [
        "13.What is a property decorator in Pyhon?\n",
        "  - The @**properly** decorator allows gette/setter-like behavior."
      ],
      "metadata": {
        "id": "ETftopBx1gXW"
      }
    },
    {
      "cell_type": "code",
      "source": [
        "class Circle:\n",
        "  def __init__(self,radius):\n",
        "    self._radius = radius\n",
        "\n",
        "  @property\n",
        "  def radius(self):\n",
        "    return self._radius\n",
        "\n",
        "  @radius.setter\n",
        "  def radius(self,value):\n",
        "    if value >= 0:\n",
        "      self._radius = value\n",
        "\n",
        "c = Circle(5)\n",
        "print(c.radius)\n",
        "c.radius = 10\n",
        "print(c.radius)\n"
      ],
      "metadata": {
        "colab": {
          "base_uri": "https://localhost:8080/"
        },
        "id": "1HCyrdfE4W9g",
        "outputId": "c16b1a58-ad9e-4f53-d6b1-a73ce0c9a870"
      },
      "execution_count": null,
      "outputs": [
        {
          "output_type": "stream",
          "name": "stdout",
          "text": [
            "5\n",
            "10\n"
          ]
        }
      ]
    },
    {
      "cell_type": "markdown",
      "source": [
        "14.What is polymorphism important in OOP?\n",
        "  - It promotes flexibility and code reuse by allowing method to act differently for different objects."
      ],
      "metadata": {
        "id": "PASmPB0A1gAx"
      }
    },
    {
      "cell_type": "markdown",
      "source": [
        "15.what is an abstract class in Python?\n",
        "  - An abstract class cannot be instantiated and often contains abstract methods, declared using @**abstractmethod**."
      ],
      "metadata": {
        "id": "UrHoZi--1fzf"
      }
    },
    {
      "cell_type": "code",
      "source": [
        "from abc import ABC, abstractmethod\n",
        "\n",
        "class Shape(ABC):\n",
        "  @abstractmethod\n",
        "  def area(self):\n",
        "    pass"
      ],
      "metadata": {
        "id": "ZVfzdxIp3RF5"
      },
      "execution_count": null,
      "outputs": []
    },
    {
      "cell_type": "markdown",
      "source": [
        "16.What are the advantages of OOP?\n",
        "  - Modularity\n",
        "  - Code reuse\n",
        "  - Scalability\n",
        "  - Easier maintenance"
      ],
      "metadata": {
        "id": "9BWX3LpM1fnt"
      }
    },
    {
      "cell_type": "markdown",
      "source": [
        "17.What is the difference between a class variable and\n",
        "an instance variable?\n",
        "  \n",
        "   - **class** **Variable**: Shared across all instance.\n",
        "   - **Instance** **Variable**: Unique to each object."
      ],
      "metadata": {
        "id": "R809tCIV1fcU"
      }
    },
    {
      "cell_type": "code",
      "source": [
        "class Example:\n",
        "  class_variable = \"Class Variable\"\n",
        "\n",
        "  def __init__(self):\n",
        "    self.instance_variable = \"Instance Variable\""
      ],
      "metadata": {
        "id": "YWJ2GflX3SYX"
      },
      "execution_count": null,
      "outputs": []
    },
    {
      "cell_type": "markdown",
      "source": [
        "18.What is muliple inheritance in Python?\n",
        "  - A class inherits from multiple parent classes:"
      ],
      "metadata": {
        "id": "jS1J2zVk1fP1"
      }
    },
    {
      "cell_type": "code",
      "source": [
        "class A: pass\n",
        "class B: pass\n",
        "class C(A,B): pass"
      ],
      "metadata": {
        "id": "jMnbWE9Q3TkT"
      },
      "execution_count": null,
      "outputs": []
    },
    {
      "cell_type": "markdown",
      "source": [
        "19.Explain the purpose of \"__str__'and'__repr__\" method in Python.\n",
        "  - __ str __: User-friendly string representation.\n",
        "  - __ repr __: Debug-friendly representation."
      ],
      "metadata": {
        "id": "eavU_DtO1fCS"
      }
    },
    {
      "cell_type": "markdown",
      "source": [
        "20.What is the significance of the 'super()' function in Python?\n",
        "  - It allows access to parent class method."
      ],
      "metadata": {
        "id": "RutsW9381e0O"
      }
    },
    {
      "cell_type": "code",
      "source": [
        "class Parent:\n",
        "  def __init__(self):\n",
        "    print(\"Parent Constructor\")\n",
        "\n",
        "class Child(Parent):\n",
        "  def __init__(self):\n",
        "    super().__init__()\n",
        "    print(\"Child Constructor\")"
      ],
      "metadata": {
        "id": "5emz6B6u3U9E"
      },
      "execution_count": null,
      "outputs": []
    },
    {
      "cell_type": "markdown",
      "source": [
        "21.What is the significance of the __del__ method in Python?\n",
        "  - Caleed when an object is destroyed."
      ],
      "metadata": {
        "id": "8TBzWrMq1ekV"
      }
    },
    {
      "cell_type": "markdown",
      "source": [
        "22.What is the difference between @staticmethod and @classmethod in Python?\n",
        "  - **Static** **Method**: Independent of class and instance.\n",
        "  - **Class** **Method**: Operates on the class."
      ],
      "metadata": {
        "id": "4CVAmVnz1eXp"
      }
    },
    {
      "cell_type": "markdown",
      "source": [
        "23.How does polymorphism work in Python with inheritance?\n",
        "  - Child classes override methods, providing specific behaviors."
      ],
      "metadata": {
        "id": "lQpr-sf91eLW"
      }
    },
    {
      "cell_type": "markdown",
      "source": [
        "24.What is method chaining in Python OOP?\n",
        "  - Calling multiple method on the same object in a single statement."
      ],
      "metadata": {
        "id": "9F3qBKXS1d-E"
      }
    },
    {
      "cell_type": "code",
      "source": [
        "class Example:\n",
        "  def method1(self):\n",
        "    print(\"Method 1\")\n",
        "    return self\n",
        "\n",
        "  def method2(self):\n",
        "    print(\"Method 2\")\n",
        "    return self\n",
        "\n",
        "example = Example()\n",
        "example.method1().method2()"
      ],
      "metadata": {
        "colab": {
          "base_uri": "https://localhost:8080/"
        },
        "id": "IN4sh92d3XOw",
        "outputId": "716caaca-3e1f-48c9-8f45-51d9898d2d5d"
      },
      "execution_count": null,
      "outputs": [
        {
          "output_type": "stream",
          "name": "stdout",
          "text": [
            "Method 1\n",
            "Method 2\n"
          ]
        },
        {
          "output_type": "execute_result",
          "data": {
            "text/plain": [
              "<__main__.Example at 0x785d1fb0cbb0>"
            ]
          },
          "metadata": {},
          "execution_count": 47
        }
      ]
    },
    {
      "cell_type": "markdown",
      "source": [
        "25.What is the purpose of the __call__ method in Python?\n",
        "  - Allows an object to be called like a function.\n"
      ],
      "metadata": {
        "id": "uBgock8v1dbt"
      }
    },
    {
      "cell_type": "code",
      "source": [
        "class Example:\n",
        "  def __call__(self):\n",
        "    print(\"Object called\")\n",
        "\n",
        "example = Example()\n",
        "example()"
      ],
      "metadata": {
        "colab": {
          "base_uri": "https://localhost:8080/"
        },
        "id": "U2A6uWrK3YK2",
        "outputId": "db820579-9264-4570-fc61-0ce330f4bec4"
      },
      "execution_count": null,
      "outputs": [
        {
          "output_type": "stream",
          "name": "stdout",
          "text": [
            "Object called\n"
          ]
        }
      ]
    },
    {
      "cell_type": "markdown",
      "source": [
        "# Practical Questions"
      ],
      "metadata": {
        "id": "AK70q6Qp1IFC"
      }
    },
    {
      "cell_type": "markdown",
      "source": [
        "1.Create a parent class Animal wint a method speak() that print a generic message. Create a child class Dog that overrides the speak() metod to print\"Bark!\"."
      ],
      "metadata": {
        "id": "zBF1tucP1pAN"
      }
    },
    {
      "cell_type": "code",
      "source": [
        "class Animal:\n",
        "  def speak(self):\n",
        "    print(\"Animal sound\")\n",
        "\n",
        "class Dog(Animal):\n",
        "  def speak(self):\n",
        "    print(\"Bark!\")\n",
        "\n",
        "dog = Dog()\n",
        "dog.speak()"
      ],
      "metadata": {
        "colab": {
          "base_uri": "https://localhost:8080/"
        },
        "id": "UW8nvkYu3wyb",
        "outputId": "0cac523c-ba4f-4d16-81a0-e6c887b713a7"
      },
      "execution_count": null,
      "outputs": [
        {
          "output_type": "stream",
          "name": "stdout",
          "text": [
            "Bark!\n"
          ]
        }
      ]
    },
    {
      "cell_type": "markdown",
      "source": [
        "2.Write a program to create an abstract class shape with a method area(). Derive classes Cricle and Rectangle from it and implement the area() method in both."
      ],
      "metadata": {
        "id": "BM_jzzv91oyu"
      }
    },
    {
      "cell_type": "code",
      "source": [
        "from abc import ABC, abstractmethod\n",
        "\n",
        "class Shape(ABC):\n",
        "  @abstractmethod\n",
        "  def area(self):\n",
        "    pass\n",
        "\n",
        "class Circle(Shape):\n",
        "  def __init__(self,radius):\n",
        "    self.radius = radius\n",
        "\n",
        "  def area(self):\n",
        "    return 3.14 * self.radius ** 2\n",
        "\n",
        "class Rectangle(Shape):\n",
        "  def __init__(self,length,width):\n",
        "    self.length = length\n",
        "    self.width = width\n",
        "\n",
        "  def area(self):\n",
        "    return self.length * self.width\n",
        "\n",
        "circle = Circle(5)\n",
        "print(circle.area())\n",
        "\n",
        "rectangle = Rectangle(4,6)\n",
        "print(rectangle.area())"
      ],
      "metadata": {
        "colab": {
          "base_uri": "https://localhost:8080/"
        },
        "id": "d6DYaDGZ3xUv",
        "outputId": "314eaca8-c677-4e6f-db8e-a020227c7fae"
      },
      "execution_count": null,
      "outputs": [
        {
          "output_type": "stream",
          "name": "stdout",
          "text": [
            "78.5\n",
            "24\n"
          ]
        }
      ]
    },
    {
      "cell_type": "markdown",
      "source": [
        "3.Implement a multi-level inheritance scenario where a class vehicle has an attribute type. Drive a class car and further derive a class Electric Car thet adds battery attribute."
      ],
      "metadata": {
        "id": "IB3qPX8b1onN"
      }
    },
    {
      "cell_type": "code",
      "source": [
        "class Vehicle:\n",
        "  def __init__(self,vehicle_type):\n",
        "    self.type = vehicle_type\n",
        "\n",
        "class Car(Vehicle):\n",
        "  def __init__(self,vehicle_type, brand):\n",
        "    super().__init__(vehicle_type)\n",
        "    self.brand = brand\n",
        "\n",
        "class ElectricCar(Car):\n",
        "  def __init__(self,vehicle_type, brand, battery_capacity): # Added brand as an argument\n",
        "    super().__init__(vehicle_type, brand)  # Pass brand to the parent class constructor\n",
        "    self.battery = battery_capacity\n",
        "\n",
        "tesla = ElectricCar(\"Electric\", \"Tesla\", \"75kwh\")\n",
        "print(f\"Type: {tesla.type}, Brand: {tesla.brand}, Battery: {tesla.battery}\")"
      ],
      "metadata": {
        "colab": {
          "base_uri": "https://localhost:8080/"
        },
        "id": "RjEzPVcv3yAe",
        "outputId": "6c231747-c655-4db9-a715-2da6f644bdba"
      },
      "execution_count": null,
      "outputs": [
        {
          "output_type": "stream",
          "name": "stdout",
          "text": [
            "Type: Electric, Brand: Tesla, Battery: 75kwh\n"
          ]
        }
      ]
    },
    {
      "cell_type": "markdown",
      "source": [
        "4.Implement a multi-level inheritance scenario where a class vehicle has an attribute type. Derive a class Car and further derive a class ElectricCar that adds a bettery attribute."
      ],
      "metadata": {
        "id": "RaDBRdQe1oWE"
      }
    },
    {
      "cell_type": "code",
      "source": [
        "class Vehicle:\n",
        "  def __init__(self,vehicle_type):\n",
        "    self.type = vehicle_type\n",
        "\n",
        "class Car(Vehicle):\n",
        "  def __init__(self,vehicle_type, brand):\n",
        "    super().__init__(vehicle_type)\n",
        "    self.brand = brand\n",
        "\n",
        "class ElectricCar(Car):\n",
        "  def __init__(self,vehicle_type, brand, battery_capacity): # Added brand as an argument\n",
        "    super().__init__(vehicle_type, brand)  # Pass brand to the parent class constructor\n",
        "    self.battery = battery_capacity\n",
        "\n",
        "tesla = ElectricCar(\"Electric\", \"Tesla\", \"75kwh\")\n",
        "print(f\"Type: {tesla.type}, Brand: {tesla.brand}, Battery: {tesla.battery}\")"
      ],
      "metadata": {
        "id": "EJYk8WVZ3y01",
        "colab": {
          "base_uri": "https://localhost:8080/"
        },
        "outputId": "b1e8ddd0-45b6-4650-fef5-dbd50b7a598e"
      },
      "execution_count": null,
      "outputs": [
        {
          "output_type": "stream",
          "name": "stdout",
          "text": [
            "Type: Electric, Brand: Tesla, Battery: 75kwh\n"
          ]
        }
      ]
    },
    {
      "cell_type": "markdown",
      "source": [
        "5.Write a program to demonstrate encapsulation by creating a class BankAccount with privet attributes balance and methods to deposit, withdraw, and check balance."
      ],
      "metadata": {
        "id": "6-GI46iU1oJS"
      }
    },
    {
      "cell_type": "code",
      "source": [
        "class BankAccount:\n",
        "  def __init__(self):\n",
        "    self._balance = 0\n",
        "\n",
        "  def deposit(self,amount):\n",
        "    self._balance += amount\n",
        "\n",
        "  def withdraw(self,amount):\n",
        "    if amount <= self._balance:\n",
        "      self._balance -= amount\n",
        "\n",
        "  def check_balance(self):\n",
        "    return self._balance\n",
        "\n",
        "account = BankAccount()\n",
        "account.deposit(1000)\n",
        "account.withdraw(500)\n",
        "print(account.check_balance())"
      ],
      "metadata": {
        "id": "k145CX4w3zTe",
        "colab": {
          "base_uri": "https://localhost:8080/"
        },
        "outputId": "46d6501e-34d8-4d08-ba98-e2460562e1a9"
      },
      "execution_count": null,
      "outputs": [
        {
          "output_type": "stream",
          "name": "stdout",
          "text": [
            "500\n"
          ]
        }
      ]
    },
    {
      "cell_type": "markdown",
      "source": [
        "6.Demonstrate runtime polymorphism using a method play() in a base class instrument. Derive classes Guitar and Piano that implement their own version of play()."
      ],
      "metadata": {
        "id": "YbVmEMTZ1n8C"
      }
    },
    {
      "cell_type": "code",
      "source": [
        "class Instrument:\n",
        "  def play(self):\n",
        "    print(\"Generic instrument sound\")\n",
        "\n",
        "class Guitar(Instrument):\n",
        "  def play(self):\n",
        "    print(\"Guitar sound\")\n",
        "\n",
        "class Piano(Instrument):\n",
        "  def play(self):\n",
        "    print(\"Piano sound\")\n",
        "\n",
        "Instrument  = [Guitar(),Piano()]\n",
        "for instrument in Instrument:\n",
        "  instrument.play()"
      ],
      "metadata": {
        "id": "QYegkSAQ3zyu",
        "colab": {
          "base_uri": "https://localhost:8080/"
        },
        "outputId": "5b72b678-7391-48e5-929e-3ab5dd2fc5af"
      },
      "execution_count": null,
      "outputs": [
        {
          "output_type": "stream",
          "name": "stdout",
          "text": [
            "Guitar sound\n",
            "Piano sound\n"
          ]
        }
      ]
    },
    {
      "cell_type": "markdown",
      "source": [
        "7.Create a class MathOperations with a class methpd add_numbers() to add two numbers and a static method subtract_numbers() to subtract two numbers."
      ],
      "metadata": {
        "id": "rylAcErj1nv0"
      }
    },
    {
      "cell_type": "code",
      "source": [
        "class MathOperations:\n",
        "  @classmethod\n",
        "  def add_numbers(cls,a,b):\n",
        "    return a+b\n",
        "\n",
        "  @staticmethod\n",
        "  def subtract_numbers(a,b):\n",
        "    return a-b\n",
        "\n",
        "print(MathOperations.add_numbers(5,3))\n",
        "print(MathOperations.subtract_numbers(5,3))"
      ],
      "metadata": {
        "id": "j6-ALAO532Sr",
        "colab": {
          "base_uri": "https://localhost:8080/"
        },
        "outputId": "65634069-63b3-46a4-a85b-35bad339c1fd"
      },
      "execution_count": null,
      "outputs": [
        {
          "output_type": "stream",
          "name": "stdout",
          "text": [
            "8\n",
            "2\n"
          ]
        }
      ]
    },
    {
      "cell_type": "markdown",
      "source": [
        "8.Implement a classs person with a class method to count the total number of person created."
      ],
      "metadata": {
        "id": "GfFo6neY1nix"
      }
    },
    {
      "cell_type": "code",
      "source": [
        "class Person:\n",
        "  count = 0\n",
        "\n",
        "  def __init__(self):\n",
        "    Person.count += 1\n",
        "\n",
        "  @classmethod\n",
        "  def get_count(cls):\n",
        "    return cls.count\n",
        "\n",
        "person1 = Person()\n",
        "person2 = Person()\n",
        "print(Person.get_count())"
      ],
      "metadata": {
        "id": "-3FeR0Zs328U",
        "colab": {
          "base_uri": "https://localhost:8080/"
        },
        "outputId": "9b13474e-b6ea-419b-9378-88b66616e422"
      },
      "execution_count": null,
      "outputs": [
        {
          "output_type": "stream",
          "name": "stdout",
          "text": [
            "2\n"
          ]
        }
      ]
    },
    {
      "cell_type": "markdown",
      "source": [
        "9.Write a class Fraction with attributes numerator and denominator. Override the str method to display to display the fraction as \"numerator/denominator\"."
      ],
      "metadata": {
        "id": "QZqDJahr1nW2"
      }
    },
    {
      "cell_type": "code",
      "source": [
        "class Fraction:\n",
        "  def __init__(self,numerator,denominator):\n",
        "    self.numerator = numerator\n",
        "    self.denominator = denominator\n",
        "\n",
        "  def __str__(self):\n",
        "    return f\"{self.numerator}/{self.denominator}\"\n",
        "\n",
        "fraction = Fraction(3,4)\n",
        "print(fraction)"
      ],
      "metadata": {
        "id": "XSWXXrLi33ae",
        "colab": {
          "base_uri": "https://localhost:8080/"
        },
        "outputId": "d8ceb632-9e73-4e95-9ac5-f4a7d7744767"
      },
      "execution_count": null,
      "outputs": [
        {
          "output_type": "stream",
          "name": "stdout",
          "text": [
            "3/4\n"
          ]
        }
      ]
    },
    {
      "cell_type": "markdown",
      "source": [
        "10.Demonstate operator overloading by creating a class vector and overriding the add method to add two vectors."
      ],
      "metadata": {
        "id": "QejqQs1L1nKH"
      }
    },
    {
      "cell_type": "code",
      "source": [
        "class vector:\n",
        "  def __init__(self,x,y):\n",
        "    self.x = x\n",
        "    self.y = y\n",
        "\n",
        "  def __add__(self,other):\n",
        "    return vector(self.x + other.x, self.y + other.y)\n",
        "\n",
        "  def __str__(self):\n",
        "    return f\"({self.x},{self.y})\"\n",
        "\n",
        "v1 = vector(1,2)\n",
        "v2 = vector(3,4)\n",
        "v3 = v1 + v2\n",
        "print(v3)"
      ],
      "metadata": {
        "id": "jP7QoTRl34dW",
        "colab": {
          "base_uri": "https://localhost:8080/"
        },
        "outputId": "f901ea9d-081c-4dcb-96e7-3eb68a65634e"
      },
      "execution_count": null,
      "outputs": [
        {
          "output_type": "stream",
          "name": "stdout",
          "text": [
            "(4,6)\n"
          ]
        }
      ]
    },
    {
      "cell_type": "markdown",
      "source": [
        "11.Create a class Person with attributes name and age. Add a method greet() that prints\"Hello, my name is {name} and I am {age} years old.\""
      ],
      "metadata": {
        "id": "COJR4fx61m8F"
      }
    },
    {
      "cell_type": "code",
      "source": [
        "class Person:\n",
        "  def __init__(self,name,age):\n",
        "    self.name = name\n",
        "    self.age = age\n",
        "\n",
        "  def greet(self):\n",
        "    print(f\"Hello, my name is {self.name} and I am {self.age} years old.\")\n",
        "\n",
        "person = Person(\"John\",30)\n",
        "person.greet()"
      ],
      "metadata": {
        "id": "ugGDrkaB31sa",
        "colab": {
          "base_uri": "https://localhost:8080/"
        },
        "outputId": "2f05d348-ab00-4b49-d1cd-5aa8cb22f370"
      },
      "execution_count": null,
      "outputs": [
        {
          "output_type": "stream",
          "name": "stdout",
          "text": [
            "Hello, my name is John and I am 30 years old.\n"
          ]
        }
      ]
    },
    {
      "cell_type": "markdown",
      "source": [
        "12.Implement a class Student with attributes name and grades. Create a method average_grade() to compute the average of the grades."
      ],
      "metadata": {
        "id": "jC6aA9oe1mvF"
      }
    },
    {
      "cell_type": "code",
      "source": [
        "class student:\n",
        "  def __init__(self,name,grades):\n",
        "    self.name = name\n",
        "    self.grades = grades\n",
        "\n",
        "  def average_grade(self):\n",
        "    return sum(self.grades)/len(self.grades)\n",
        "\n",
        "student = student(\"John\",[80,90,75,95])\n",
        "print(student.average_grade())"
      ],
      "metadata": {
        "id": "p9UKrPnZ31Hu",
        "colab": {
          "base_uri": "https://localhost:8080/"
        },
        "outputId": "651e53d9-c1cf-41b9-fe5f-08c15106c997"
      },
      "execution_count": null,
      "outputs": [
        {
          "output_type": "stream",
          "name": "stdout",
          "text": [
            "85.0\n"
          ]
        }
      ]
    },
    {
      "cell_type": "markdown",
      "source": [
        "13.Create a class Rectangle with methods set_dimensions() to set the dimension and area() to calculte the area."
      ],
      "metadata": {
        "id": "gzDQsbBW1mfI"
      }
    },
    {
      "cell_type": "code",
      "source": [
        "class Rectangle:\n",
        "  def set_dimensions(self,length,width):\n",
        "    self.length = length\n",
        "    self.width = width\n",
        "\n",
        "  def area(self):\n",
        "    return self.length * self.width\n",
        "\n",
        "rectangle = Rectangle()\n",
        "rectangle.set_dimensions(5,3)\n",
        "print(rectangle.area())"
      ],
      "metadata": {
        "id": "pWvrmgK335oy",
        "colab": {
          "base_uri": "https://localhost:8080/"
        },
        "outputId": "e2e2b30e-a1b3-4e94-a8e1-e888ea033e9a"
      },
      "execution_count": null,
      "outputs": [
        {
          "output_type": "stream",
          "name": "stdout",
          "text": [
            "15\n"
          ]
        }
      ]
    },
    {
      "cell_type": "markdown",
      "source": [
        "14.Create a c;ass Employee with a method calculate_salary() that computers the salary based on hours worked and hourly rate. Create a derived class Manager that adds a bonus to thae salary."
      ],
      "metadata": {
        "id": "mfL11pKa1mNu"
      }
    },
    {
      "cell_type": "code",
      "source": [
        "class Employee:\n",
        "    def __init__(self, name, hours_worked, hourly_rate):\n",
        "        self.name = name\n",
        "        self.hours_worked = hours_worked\n",
        "        self.hourly_rate = hourly_rate\n",
        "\n",
        "    def calculate_salary(self):\n",
        "        return self.hours_worked * self.hourly_rate # Indented this line\n",
        "\n",
        "class Manager(Employee):\n",
        "    def __init__(self, name, hours_worked, hourly_rate, bonus):\n",
        "        super().__init__(name, hours_worked, hourly_rate)\n",
        "        self.bonus = bonus\n",
        "\n",
        "    def calculate_salary(self):\n",
        "        base_salary = super().calculate_salary()\n",
        "        return base_salary + self.bonus\n",
        "\n",
        "manager = Manager(\"John\", 40, 50, 1000)\n",
        "print(manager.calculate_salary())"
      ],
      "metadata": {
        "id": "Wm405Iza36G-",
        "colab": {
          "base_uri": "https://localhost:8080/"
        },
        "outputId": "becf9fef-af38-4d24-e18c-de5a6379a550"
      },
      "execution_count": null,
      "outputs": [
        {
          "output_type": "stream",
          "name": "stdout",
          "text": [
            "3000\n"
          ]
        }
      ]
    },
    {
      "cell_type": "markdown",
      "source": [
        "15.Create a class Product with attributes name,price, and quantity. Implement a method total_price() that calculates the total price of the product."
      ],
      "metadata": {
        "id": "FDYJ4PFs1l_6"
      }
    },
    {
      "cell_type": "code",
      "source": [
        "class Product:\n",
        "  def __init__(self,name,price,quantity):\n",
        "    self.name = name\n",
        "    self.price = price\n",
        "    self.quantity = quantity\n",
        "\n",
        "  def total_price(self):\n",
        "    return self.price * self.quantity\n",
        "\n",
        "product = Product(\"Laptop\",500,3)\n",
        "print(product.total_price())"
      ],
      "metadata": {
        "id": "40AvkMaS36oT",
        "colab": {
          "base_uri": "https://localhost:8080/"
        },
        "outputId": "b2c2d962-1ef0-45c7-bd1d-73d1bce118c9"
      },
      "execution_count": null,
      "outputs": [
        {
          "output_type": "stream",
          "name": "stdout",
          "text": [
            "1500\n"
          ]
        }
      ]
    },
    {
      "cell_type": "markdown",
      "source": [
        "16.Create a class Animal with an abstract method sound(). Create two derivd classes Cow and sheep that implement the sound() method."
      ],
      "metadata": {
        "id": "_bdeAETG1lzc"
      }
    },
    {
      "cell_type": "code",
      "source": [
        "from abc import ABC, abstractmethod\n",
        "\n",
        "class Animal(ABC):\n",
        "  @abstractmethod\n",
        "  def sound(self):\n",
        "    pass\n",
        "\n",
        "class Cow(Animal):\n",
        "  def sound(self):\n",
        "    print(\"Moo!\")\n",
        "\n",
        "class Sheep(Animal):\n",
        "  def sound(self):\n",
        "    print(\"Baa!\")\n",
        "\n",
        "cow = Cow()\n",
        "cow.sound()\n",
        "\n",
        "sheep = Sheep()\n",
        "sheep.sound()"
      ],
      "metadata": {
        "id": "Kb2lze_i37d4",
        "colab": {
          "base_uri": "https://localhost:8080/"
        },
        "outputId": "64ba8212-7358-4ac8-e3a9-6da356d4f545"
      },
      "execution_count": null,
      "outputs": [
        {
          "output_type": "stream",
          "name": "stdout",
          "text": [
            "Moo!\n",
            "Baa!\n"
          ]
        }
      ]
    },
    {
      "cell_type": "markdown",
      "source": [
        "17.Create a class Book with attributes title,author, and year_poblished. Add a method get_book_info() that returns a formatted string with the book's details."
      ],
      "metadata": {
        "id": "IysbO4dp1lmc"
      }
    },
    {
      "cell_type": "code",
      "source": [
        "class Book:\n",
        "  def __init__(self,title,author,year_published):\n",
        "    self.title = title\n",
        "    self.author = author\n",
        "    self.year_published = year_published\n",
        "\n",
        "  def get_book_info(self):\n",
        "    return f\"Title: {self.title}\\nAuthor: {self.author}\\nYear Published: {self.year_published}\"\n",
        "\n",
        "book = Book(\"Python Programming\",\"John Doe\",2021)\n",
        "print(book.get_book_info())"
      ],
      "metadata": {
        "id": "Gg80L-8k38C0",
        "colab": {
          "base_uri": "https://localhost:8080/"
        },
        "outputId": "1dd9bba3-473a-4791-ccb9-e2c1051358f7"
      },
      "execution_count": null,
      "outputs": [
        {
          "output_type": "stream",
          "name": "stdout",
          "text": [
            "Title: Python Programming\n",
            "Author: John Doe\n",
            "Year Published: 2021\n"
          ]
        }
      ]
    },
    {
      "cell_type": "markdown",
      "source": [
        "18. Create a class House with attributes address and price. Create a derived class Mansion that adds an attribute number_of_rooms."
      ],
      "metadata": {
        "id": "IWj5bSSA1lHr"
      }
    },
    {
      "cell_type": "code",
      "source": [
        "class House:\n",
        "  def __init__(self,address,price):\n",
        "    self.address = address\n",
        "    self.price = price\n",
        "\n",
        "class Mansion(House):\n",
        "  def __init__(self,address,price,number_of_rooms):\n",
        "    super().__init__(address,price)\n",
        "    self.number_of_rooms = number_of_rooms\n",
        "\n",
        "mansion = Mansion(\"123 Main St\",250000,8)\n",
        "print(mansion.address)\n",
        "print(mansion.price)\n",
        "print(mansion.number_of_rooms)"
      ],
      "metadata": {
        "id": "vqwbcz5Y38x6",
        "colab": {
          "base_uri": "https://localhost:8080/"
        },
        "outputId": "6fbad007-70df-43b0-b165-4513820b8fbf"
      },
      "execution_count": null,
      "outputs": [
        {
          "output_type": "stream",
          "name": "stdout",
          "text": [
            "123 Main St\n",
            "250000\n",
            "8\n"
          ]
        }
      ]
    }
  ]
}